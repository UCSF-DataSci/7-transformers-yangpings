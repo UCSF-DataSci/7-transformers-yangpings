{
 "cells": [
  {
   "cell_type": "markdown",
   "id": "0b25df5d",
   "metadata": {},
   "source": [
    "# Part 3: Prompt Engineering Basics\n",
    "\n",
    "## Introduction\n",
    "\n",
    "In this part, you'll experiment with different prompting techniques to improve the quality of responses from Large Language Models (LLMs). You'll compare zero-shot, one-shot, and few-shot prompting approaches and document which works best for different types of questions.\n",
    "\n",
    "## Learning Objectives\n",
    "\n",
    "- Understand different prompting techniques\n",
    "- Compare zero-shot, one-shot, and few-shot prompting\n",
    "- Analyze the impact of prompt design on response quality\n",
    "\n",
    "## Setup"
   ]
  },
  {
   "cell_type": "code",
   "id": "1cf754da",
   "metadata": {
    "ExecuteTime": {
     "end_time": "2025-06-11T18:18:30.767585Z",
     "start_time": "2025-06-11T18:18:30.450964Z"
    }
   },
   "source": [
    "# Import necessary libraries\n",
    "import requests\n",
    "import json"
   ],
   "outputs": [],
   "execution_count": 1
  },
  {
   "cell_type": "markdown",
   "id": "aab0dd80",
   "metadata": {},
   "source": [
    "## 1. Understanding Prompting Techniques\n",
    "\n",
    "LLMs can be prompted in different ways to get better responses:\n",
    "\n",
    "1. **Zero-shot prompting**: Asking the model a question directly without examples\n",
    "2. **One-shot prompting**: Providing one example before asking your question\n",
    "3. **Few-shot prompting**: Providing multiple examples before asking your question\n",
    "\n",
    "## 2. Creating Prompting Templates\n",
    "\n",
    "Your first task is to create templates for different prompting strategies."
   ]
  },
  {
   "cell_type": "code",
   "id": "7a06b82d",
   "metadata": {
    "ExecuteTime": {
     "end_time": "2025-06-11T18:18:36.189112Z",
     "start_time": "2025-06-11T18:18:36.184246Z"
    }
   },
   "source": [
    "# Define a question to experiment with\n",
    "question = \"What foods should be avoided by patients with gout?\"\n",
    "\n",
    "# Example for one-shot and few-shot prompting\n",
    "example_q = \"What are the symptoms of gout?\"\n",
    "example_a = \"Gout symptoms include sudden severe pain, swelling, redness, and tenderness in joints, often the big toe.\"\n",
    "\n",
    "# Examples for few-shot prompting\n",
    "examples = [\n",
    "    (\"What are the symptoms of gout?\",\n",
    "     \"Gout symptoms include sudden severe pain, swelling, redness, and tenderness in joints, often the big toe.\"),\n",
    "    (\"How is gout diagnosed?\",\n",
    "     \"Gout is diagnosed through physical examination, medical history, blood tests for uric acid levels, and joint fluid analysis to look for urate crystals.\")\n",
    "]\n",
    "\n",
    "# TODO: Create prompting templates\n",
    "# Zero-shot template (just the question)\n",
    "zero_shot_template = \"Question: {question}\\nAnswer:\"\n",
    "\n",
    "# One-shot template (one example + the question)\n",
    "one_shot_template = \"\"\"Question: {example_q}\n",
    "Answer: {example_a}\n",
    "\n",
    "Question: {question}\n",
    "Answer:\"\"\"\n",
    "\n",
    "# Few-shot template (multiple examples + the question)\n",
    "few_shot_template = \"\"\"Question: {examples[0][0]}\n",
    "Answer: {examples[0][1]}\n",
    "\n",
    "Question: {examples[1][0]}\n",
    "Answer: {examples[1][1]}\n",
    "\n",
    "Question: {question}\n",
    "Answer:\"\"\"\n",
    "\n",
    "# TODO: Format the templates with your question and examples\n",
    "zero_shot_prompt = zero_shot_template.format(question=question)\n",
    "one_shot_prompt = one_shot_template.format(example_q=example_q, example_a=example_a, question=question)\n",
    "# For few-shot, you'll need to format it with the examples list\n",
    "few_shot_prompt = few_shot_template.format(examples=examples, question=question)\n",
    "\n",
    "print(\"Zero-shot prompt:\")\n",
    "print(zero_shot_prompt)\n",
    "print(\"\\nOne-shot prompt:\")\n",
    "print(one_shot_prompt)\n",
    "print(\"\\nFew-shot prompt:\")\n",
    "print(few_shot_prompt)"
   ],
   "outputs": [
    {
     "name": "stdout",
     "output_type": "stream",
     "text": [
      "Zero-shot prompt:\n",
      "Question: What foods should be avoided by patients with gout?\n",
      "Answer:\n",
      "\n",
      "One-shot prompt:\n",
      "Question: What are the symptoms of gout?\n",
      "Answer: Gout symptoms include sudden severe pain, swelling, redness, and tenderness in joints, often the big toe.\n",
      "\n",
      "Question: What foods should be avoided by patients with gout?\n",
      "Answer:\n",
      "\n",
      "Few-shot prompt:\n",
      "Question: What are the symptoms of gout?\n",
      "Answer: Gout symptoms include sudden severe pain, swelling, redness, and tenderness in joints, often the big toe.\n",
      "\n",
      "Question: How is gout diagnosed?\n",
      "Answer: Gout is diagnosed through physical examination, medical history, blood tests for uric acid levels, and joint fluid analysis to look for urate crystals.\n",
      "\n",
      "Question: What foods should be avoided by patients with gout?\n",
      "Answer:\n"
     ]
    }
   ],
   "execution_count": 2
  },
  {
   "cell_type": "markdown",
   "id": "d338f577",
   "metadata": {},
   "source": [
    "## 3. Connecting to the LLM API\n",
    "\n",
    "Next, implement a function to send prompts to an LLM API and get responses."
   ]
  },
  {
   "cell_type": "code",
   "id": "c3efb0a8",
   "metadata": {
    "ExecuteTime": {
     "end_time": "2025-06-11T18:28:07.254461Z",
     "start_time": "2025-06-11T18:28:01.177988Z"
    }
   },
   "source": [
    "from openai import OpenAI\n",
    "from auth import api_key\n",
    "client = OpenAI(api_key=api_key)\n",
    "def get_llm_response(prompt, system_msg=\"You are a friendly assistant.\"):\n",
    "    response = client.chat.completions.create(\n",
    "        model=\"gpt-4o-mini\",           # or any model you prefer\n",
    "        messages=[\n",
    "            {\"role\": \"system\", \"content\": system_msg},\n",
    "            {\"role\": \"user\",   \"content\": prompt}\n",
    "        ],\n",
    "        temperature=0.7\n",
    "    )\n",
    "    return response.choices[0].message.content\n",
    "\n",
    "# TODO: Test your get_llm_response function with different prompts\n",
    "prompt = \"hi, how are you today\"\n",
    "print(get_llm_response(prompt))"
   ],
   "outputs": [
    {
     "name": "stdout",
     "output_type": "stream",
     "text": [
      "Hello! I'm just a computer program, but I'm here and ready to help you. How can I assist you today?\n"
     ]
    }
   ],
   "execution_count": 4
  },
  {
   "cell_type": "markdown",
   "id": "673f6472",
   "metadata": {},
   "source": [
    "## 4. Comparing Prompting Strategies\n",
    "\n",
    "Now, let's compare the different prompting strategies on a set of healthcare questions."
   ]
  },
  {
   "cell_type": "code",
   "id": "b29e9ac8",
   "metadata": {
    "ExecuteTime": {
     "end_time": "2025-06-11T18:29:37.541493Z",
     "start_time": "2025-06-11T18:28:12.622439Z"
    }
   },
   "source": [
    "# List of healthcare questions to test\n",
    "import pandas as pd\n",
    "from itertools import product\n",
    "questions = [\n",
    "    \"What foods should be avoided by patients with gout?\",\n",
    "    \"What medications are commonly prescribed for gout?\",\n",
    "    \"How can gout flares be prevented?\",\n",
    "    \"Is gout related to diet?\",\n",
    "    \"Can gout be cured permanently?\"\n",
    "]\n",
    "\n",
    "# TODO: Compare the different prompting strategies on these questions\n",
    "prompt_templates = {\n",
    "    \"plain\": \"{q}\",\n",
    "    \"cot\": \"{q}\\n\\nThink step-by-step.\",\n",
    "}\n",
    "\n",
    "system_templates = {\n",
    "    \"plain\": \"You are a friendly assistant.\",\n",
    "    \"role\":  \"You are an experienced clinician speaking to a layperson.\",\n",
    "    \"cot\":   \"You are a friendly assistant.\",\n",
    "}\n",
    "records = []\n",
    "\n",
    "for q, strat in product(questions, prompt_templates):\n",
    "    user_prompt = prompt_templates[strat].format(q=q)\n",
    "    sys_prompt  = system_templates.get(strat, system_templates[\"plain\"])\n",
    "    \n",
    "    answer = get_llm_response(user_prompt, system_msg=sys_prompt)\n",
    "    \n",
    "    records.append(\n",
    "        {\"question\": q, \"strategy\": strat, \"prompt\": user_prompt,\n",
    "         \"system_message\": sys_prompt, \"answer\": answer}\n",
    "    )\n",
    "\n",
    "df = pd.DataFrame(records)\n",
    "df.to_csv(\"gout_prompting_results.csv\", index=False)\n",
    "print(df.head())"
   ],
   "outputs": [
    {
     "name": "stdout",
     "output_type": "stream",
     "text": [
      "                                            question strategy  \\\n",
      "0  What foods should be avoided by patients with ...    plain   \n",
      "1  What foods should be avoided by patients with ...      cot   \n",
      "2  What medications are commonly prescribed for g...    plain   \n",
      "3  What medications are commonly prescribed for g...      cot   \n",
      "4                  How can gout flares be prevented?    plain   \n",
      "\n",
      "                                              prompt  \\\n",
      "0  What foods should be avoided by patients with ...   \n",
      "1  What foods should be avoided by patients with ...   \n",
      "2  What medications are commonly prescribed for g...   \n",
      "3  What medications are commonly prescribed for g...   \n",
      "4                  How can gout flares be prevented?   \n",
      "\n",
      "                  system_message  \\\n",
      "0  You are a friendly assistant.   \n",
      "1  You are a friendly assistant.   \n",
      "2  You are a friendly assistant.   \n",
      "3  You are a friendly assistant.   \n",
      "4  You are a friendly assistant.   \n",
      "\n",
      "                                              answer  \n",
      "0  Patients with gout should be mindful of their ...  \n",
      "1  Managing gout involves careful dietary choices...  \n",
      "2  Gout is a form of inflammatory arthritis that ...  \n",
      "3  Gout is a type of arthritis caused by the accu...  \n",
      "4  Preventing gout flares involves a combination ...  \n"
     ]
    }
   ],
   "execution_count": 5
  },
  {
   "cell_type": "markdown",
   "id": "2c5c0525",
   "metadata": {},
   "source": [
    "## 5. Evaluating Responses\n",
    "\n",
    "Create a simple evaluation function to score the responses based on the presence of expected keywords."
   ]
  },
  {
   "cell_type": "code",
   "id": "e1ad9795",
   "metadata": {
    "ExecuteTime": {
     "end_time": "2025-06-11T18:33:27.250247Z",
     "start_time": "2025-06-11T18:33:27.243259Z"
    }
   },
   "source": [
    "def score_response(response, keywords):\n",
    "    \"\"\"Score a response based on the presence of expected keywords\"\"\"\n",
    "    # TODO: Implement the score_response function\n",
    "    response = response.lower()\n",
    "    hits = sum(1 for kw in keywords if kw.lower() in response)\n",
    "    return hits / len(keywords) if keywords else 0.0\n",
    "\n",
    "# Expected keywords for each question\n",
    "expected_keywords = {\n",
    "    \"What foods should be avoided by patients with gout?\": \n",
    "        [\"purine\", \"red meat\", \"seafood\", \"alcohol\", \"beer\", \"organ meats\"],\n",
    "    \"What medications are commonly prescribed for gout?\": \n",
    "        [\"nsaids\", \"colchicine\", \"allopurinol\", \"febuxostat\", \"probenecid\", \"corticosteroids\"],\n",
    "    \"How can gout flares be prevented?\": \n",
    "        [\"medication\", \"diet\", \"weight\", \"alcohol\", \"water\", \"exercise\"],\n",
    "    \"Is gout related to diet?\": \n",
    "        [\"yes\", \"purine\", \"food\", \"alcohol\", \"seafood\", \"meat\"],\n",
    "    \"Can gout be cured permanently?\": \n",
    "        [\"manage\", \"treatment\", \"lifestyle\", \"medication\", \"chronic\"]\n",
    "}\n",
    "\n",
    "# TODO: Score the responses and calculate average scores for each strategy\n",
    "df[\"score\"] = df.apply(\n",
    "    lambda row: score_response(\n",
    "        row[\"answer\"],\n",
    "        expected_keywords[row[\"question\"]]\n",
    "    ),\n",
    "    axis=1\n",
    ")\n",
    "summary = (\n",
    "    df.groupby(\"strategy\")[\"score\"]\n",
    "      .mean()                       # mean across the 5 questions\n",
    "      .sort_values(ascending=False) # best at the top\n",
    ")\n",
    "print(\"Average keyword-coverage score per strategy:\")\n",
    "print(summary)\n",
    "\n",
    "best_strategy = summary.idxmax()\n",
    "print(f\"Best overall strategy: {best_strategy!r} \"\n",
    "      f\"with mean score {summary[best_strategy]:.2%}\")"
   ],
   "outputs": [
    {
     "name": "stdout",
     "output_type": "stream",
     "text": [
      "Average keyword-coverage score per strategy:\n",
      "strategy\n",
      "cot      0.96\n",
      "plain    0.96\n",
      "Name: score, dtype: float64\n",
      "Best overall strategy: 'cot' with mean score 96.00%\n"
     ]
    }
   ],
   "execution_count": 7
  },
  {
   "cell_type": "markdown",
   "id": "df8c92ea",
   "metadata": {},
   "source": [
    "## 6. Saving Results\n",
    "\n",
    "Save your results in a structured format for auto-grading."
   ]
  },
  {
   "cell_type": "code",
   "id": "c54007fe",
   "metadata": {
    "ExecuteTime": {
     "end_time": "2025-06-11T18:39:34.339150Z",
     "start_time": "2025-06-11T18:39:34.320148Z"
    }
   },
   "source": [
    "# TODO: Save your results to results/part_3/prompting_results.txt\n",
    "# The file should include:\n",
    "# - Raw responses for each question and strategy\n",
    "# - Scores for each question and strategy\n",
    "# - Average scores for each strategy\n",
    "# - The best performing strategy\n",
    "from pathlib import Path\n",
    "\n",
    "# ---------------------------------- CONFIG ----------------------------------\n",
    "OUT_DIR   = Path(\"results/part_3\")\n",
    "OUT_FILE  = OUT_DIR / \"prompting_results.txt\"\n",
    "\n",
    "strategy_labels = {          # human-friendly headings\n",
    "    \"plain\": \"Zero-shot\",\n",
    "    \"role\":  \"One-shot\",\n",
    "    \"cot\":   \"Few-shot\",\n",
    "}\n",
    "\n",
    "OUT_DIR.mkdir(parents=True, exist_ok=True)   \n",
    "\n",
    "lines = [\"# Prompt Engineering Results\\n\"]\n",
    "for q in questions:\n",
    "    lines.append(f\"## Question: {q}\\n\")\n",
    "    for strat in df[\"strategy\"].unique():              # preserves encounter order\n",
    "        pretty = strategy_labels.get(strat, strat.title())\n",
    "        resp = df.loc[(df.question == q) & (df.strategy == strat),\n",
    "                      \"answer\"].iloc[0]\n",
    "        lines.append(f\"### {pretty} response:\\n{resp}\\n\")\n",
    "    lines.append(\"-\" * 50 + \"\\n\")\n",
    "pivot = (\n",
    "    df.pivot_table(index=\"question\", columns=\"strategy\", values=\"score\")\n",
    "      .reindex(columns=df[\"strategy\"].unique())        # keep column order\n",
    "      .reset_index()\n",
    ")\n",
    "def slug(text: str) -> str:\n",
    "    return text.lower().replace(\"?\", \"\").replace(\",\", \"\") \\\n",
    "               .replace(\" \", \"_\")\n",
    "\n",
    "csv_lines = []\n",
    "\n",
    "# header row\n",
    "csv_lines.append(\",\".join([\"question\", *pivot.columns[1:]]))\n",
    "\n",
    "# per-question rows\n",
    "for _, row in pivot.iterrows():\n",
    "    csv_lines.append(\",\".join([slug(row[\"question\"]),\n",
    "                               *row.iloc[1:].round(2).astype(str)]))\n",
    "\n",
    "# averages row\n",
    "avg_scores = df.groupby(\"strategy\")[\"score\"].mean().round(2)\n",
    "csv_lines.append(\",\".join([\"average\", *avg_scores.astype(str)]))\n",
    "\n",
    "# best-performing strategy row\n",
    "best_method = avg_scores.idxmax()\n",
    "csv_lines.append(\",\".join([\"best_method\", best_method]))\n",
    "\n",
    "# wrap CSV block in fenced code for markdown\n",
    "lines.append(\"## Scores\\n\\n```\\n\")\n",
    "lines.append(\"\\n\".join(csv_lines) + \"\\n```\\n\")\n",
    "OUT_FILE.write_text(\"\\n\".join(lines), encoding=\"utf-8\")\n"
   ],
   "outputs": [
    {
     "data": {
      "text/plain": [
       "22766"
      ]
     },
     "execution_count": 13,
     "metadata": {},
     "output_type": "execute_result"
    }
   ],
   "execution_count": 13
  },
  {
   "cell_type": "markdown",
   "id": "a4078975",
   "metadata": {},
   "source": [
    "## Progress Checkpoints\n",
    "\n",
    "1. **Prompting Templates**:\n",
    "   - [ ] Create zero-shot template\n",
    "   - [ ] Create one-shot template\n",
    "   - [ ] Create few-shot template\n",
    "   - [ ] Format templates with questions and examples\n",
    "\n",
    "2. **LLM API Integration**:\n",
    "   - [ ] Connect to the Hugging Face API\n",
    "   - [ ] Test with different prompts\n",
    "   - [ ] Handle API errors\n",
    "\n",
    "3. **Comparison and Evaluation**:\n",
    "   - [ ] Compare strategies on multiple questions\n",
    "   - [ ] Score responses based on keywords\n",
    "   - [ ] Determine the best strategy\n",
    "\n",
    "4. **Results and Documentation**:\n",
    "   - [ ] Save results in the required format\n",
    "   - [ ] Document your findings\n",
    "\n",
    "## What to Submit\n",
    "\n",
    "1. Your implementation in a Python script `utils/prompt_comparison.py` that:\n",
    "   - Defines the prompting templates\n",
    "   - Connects to the Hugging Face API\n",
    "   - Compares different prompting strategies\n",
    "   - Scores and evaluates the responses\n",
    "\n",
    "2. The results of your experiments in `results/part_3/prompting_results.txt` with the format shown above\n",
    "\n",
    "The auto-grader will check:\n",
    "1. That your results file contains the required sections\n",
    "2. That your scoring logic correctly identifies keyword presence\n",
    "3. That you've correctly calculated average scores\n",
    "4. That you've identified the best performing method"
   ]
  }
 ],
 "metadata": {
  "jupytext": {
   "cell_metadata_filter": "-all",
   "main_language": "python",
   "notebook_metadata_filter": "-all"
  },
  "kernelspec": {
   "name": "python3",
   "language": "python",
   "display_name": "Python 3 (ipykernel)"
  }
 },
 "nbformat": 4,
 "nbformat_minor": 5
}
